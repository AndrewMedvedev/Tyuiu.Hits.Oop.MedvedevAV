{
 "cells": [
  {
   "cell_type": "markdown",
   "metadata": {},
   "source": [
    "<h1 style=\"color:DodgerBlue\">Индивидальный проект</h1>"
   ]
  },
  {
   "cell_type": "markdown",
   "metadata": {},
   "source": [
    "<h2 style=\"color:DodgerBlue\">Название проекта:</h2>\n",
    "\n",
    "----\n",
    "\n",
    "### Вариант задания \n"
   ]
  },
  {
   "cell_type": "markdown",
   "metadata": {},
   "source": [
    "<h2 style=\"color:DodgerBlue\">Описание проекта:</h2>\n",
    "\n",
    "----\n",
    "\n",
    "[ваш текст]\n",
    "\n",
    "#### Дополнительное задание\n",
    "Добавьте к сущестующим классам (базовыму и производным 3-4 атрибута и метода) и реализуйте полиморфизм с перекрытием и прегегрузкой методов, а также generic классы"
   ]
  },
  {
   "cell_type": "markdown",
   "metadata": {},
   "source": [
    "<h2 style=\"color:DodgerBlue\">Реализация:</h2>\n",
    "\n",
    "----"
   ]
  },
  {
   "cell_type": "code",
   "execution_count": null,
   "metadata": {
    "dotnet_interactive": {
     "language": "csharp"
    },
    "polyglot_notebook": {
     "kernelName": "csharp"
    }
   },
   "outputs": [
    {
     "name": "stdout",
     "output_type": "stream",
     "text": [
      "Smartphone: 1 x ¤599.99 = ¤599.99 [Shipping Address: 123 Main St]\r\n"
     ]
    }
   ],
   "source": [
    "\n",
    "using System;\n",
    "using System.Collections.Generic;\n",
    "\n",
    "\n",
    "public class OrderLine\n",
    "{\n",
    "\n",
    "    public string ProductName { get; set; }\n",
    "    public int Quantity { get; set; }\n",
    "    public decimal Price { get; set; }\n",
    "\n",
    "    public OrderLine(string productName, int quantity, decimal price)\n",
    "    {\n",
    "        ProductName = productName;\n",
    "        Quantity = quantity;\n",
    "        Price = price;\n",
    "    }\n",
    "\n",
    "\n",
    "    public virtual decimal GetTotalPrice()\n",
    "    {\n",
    "        return Quantity * Price;\n",
    "    }\n",
    "\n",
    "    public virtual string GetOrderDetails()\n",
    "    {\n",
    "        return $\"{ProductName}: {Quantity} x {Price:C} = {GetTotalPrice():C}\";  \n",
    "    }\n",
    "}\n",
    "\n",
    "\n",
    "public class PhysicalOrderLine : OrderLine\n",
    "{\n",
    "\n",
    "    public string ShippingAddress { get; set; }\n",
    "\n",
    "    public PhysicalOrderLine(string productName, int quantity, decimal price, string shippingAddress)\n",
    "        : base(productName, quantity, price)\n",
    "    {\n",
    "        ShippingAddress = shippingAddress;\n",
    "    }\n",
    "\n",
    "    public override string GetOrderDetails()\n",
    "    {\n",
    "        return base.GetOrderDetails() + $\" [Shipping Address: {ShippingAddress}]\";\n",
    "    }\n",
    "}\n",
    "\n",
    "public class OrderProcessor<T> where T : OrderLine\n",
    "{\n",
    "    private List<T> orderLines = new List<T>();\n",
    "\n",
    "    public void AddOrderLine(T orderLine)\n",
    "    {\n",
    "        orderLines.Add(orderLine);\n",
    "    }\n",
    "\n",
    "\n",
    "    public void PrintOrderDetails()\n",
    "    {\n",
    "        foreach (var line in orderLines)\n",
    "        {\n",
    "            Console.WriteLine(line.GetOrderDetails());\n",
    "        }\n",
    "    }\n",
    "}\n",
    "\n",
    "\n",
    "        var physicalOrder = new PhysicalOrderLine(\"Smartphone\", 1, 599.99m, \"123 Main St\");\n",
    "\n",
    "        var orderProcessor = new OrderProcessor<OrderLine>();\n",
    "\n",
    "        orderProcessor.AddOrderLine(physicalOrder);\n",
    "\n",
    "        orderProcessor.PrintOrderDetails();\n"
   ]
  }
 ],
 "metadata": {
  "kernelspec": {
   "display_name": ".NET (C#)",
   "language": "C#",
   "name": ".net-csharp"
  },
  "polyglot_notebook": {
   "kernelInfo": {
    "defaultKernelName": "csharp",
    "items": [
     {
      "aliases": [],
      "languageName": "csharp",
      "name": "csharp"
     }
    ]
   }
  }
 },
 "nbformat": 4,
 "nbformat_minor": 2
}
