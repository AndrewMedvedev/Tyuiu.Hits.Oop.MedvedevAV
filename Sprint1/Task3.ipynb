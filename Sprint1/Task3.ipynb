{
 "cells": [
  {
   "cell_type": "markdown",
   "metadata": {},
   "source": [
    "<h1 style=\"color:DodgerBlue\">Индивидальный проект</h1>"
   ]
  },
  {
   "cell_type": "markdown",
   "metadata": {},
   "source": [
    "<h2 style=\"color:DodgerBlue\">Название проекта:</h2>\n",
    "\n",
    "----\n",
    "\n",
    "### Вариант задания 15\n",
    "\n"
   ]
  },
  {
   "cell_type": "markdown",
   "metadata": {},
   "source": [
    "<h2 style=\"color:DodgerBlue\">Описание проекта:</h2>\n",
    "\n",
    "----\n",
    "\n",
    "\n",
    "\n",
    "#### Дополнительное задание\n",
    "Добавьте к сущестующим классам конструктора классов с использованием гетторов и сетторов и реализуйте взаимодействие объектов между собой"
   ]
  },
  {
   "cell_type": "markdown",
   "metadata": {},
   "source": [
    "<h2 style=\"color:DodgerBlue\">Реализация:</h2>\n",
    "\n",
    "----"
   ]
  },
  {
   "cell_type": "code",
   "execution_count": 1,
   "metadata": {
    "dotnet_interactive": {
     "language": "csharp"
    },
    "polyglot_notebook": {
     "kernelName": "csharp"
    }
   },
   "outputs": [
    {
     "name": "stdout",
     "output_type": "stream",
     "text": [
      "ID: 1, Name: Standard Widget, Price: ¤20.00, Units: 3\n",
      "Total: ¤60.00\n",
      "ID: 2, Name: Special Widget, Price: ¤27.00, Discount: 10%\n",
      "Total: ¤27.00\n",
      "ID: 3, Name: Free Widget, Price: ¤0.00, Prepayment: ¤5.00\n",
      "Total: -¤5.00\n",
      "Grand Total: ¤82.00\n"
     ]
    }
   ],
   "source": [
    "\n",
    "using System;\n",
    "\n",
    "\n",
    "    public class OrderLine\n",
    "    {\n",
    "        public int ProductId { get; private set; }\n",
    "        public string ProductName { get; private set; }\n",
    "        public decimal Price { get; protected set; }\n",
    "\n",
    "        public OrderLine(int productId, string productName, decimal price)\n",
    "        {\n",
    "            ProductId = productId;\n",
    "            ProductName = productName;\n",
    "            Price = price;\n",
    "        }\n",
    "\n",
    "\n",
    "        public virtual decimal CalculateTotal()\n",
    "        {\n",
    "            return Price;\n",
    "        }\n",
    "\n",
    "\n",
    "        public virtual void UpdatePrice(decimal newPrice)\n",
    "        {\n",
    "            Price = newPrice;\n",
    "        }\n",
    "\n",
    "\n",
    "        public virtual string GetProductDetails()\n",
    "        {\n",
    "            return $\"ID: {ProductId}, Name: {ProductName}, Price: {Price:C}\";\n",
    "        }\n",
    "    }\n",
    "\n",
    "\n",
    "    public class StandardLine : OrderLine\n",
    "    {\n",
    "        public int Units { get; private set; }\n",
    "\n",
    "        public StandardLine(int productId, string productName, decimal price, int units)\n",
    "            : base(productId, productName, price)\n",
    "        {\n",
    "            Units = units;\n",
    "        }\n",
    "\n",
    "\n",
    "        public override decimal CalculateTotal()\n",
    "        {\n",
    "            return Price * Units;\n",
    "        }\n",
    "\n",
    "\n",
    "        public override string GetProductDetails()\n",
    "        {\n",
    "            return base.GetProductDetails() + $\", Units: {Units}\";\n",
    "        }\n",
    "    }\n",
    "\n",
    " \n",
    "    public class SpecialLine : OrderLine\n",
    "    {\n",
    "        public decimal Discount { get; private set; }\n",
    "\n",
    "        public SpecialLine(int productId, string productName, decimal price, decimal discount)\n",
    "            : base(productId, productName, price)\n",
    "        {\n",
    "            Discount = discount;\n",
    "        }\n",
    "\n",
    "\n",
    "        public override void UpdatePrice(decimal newPrice)\n",
    "        {\n",
    "            Price = newPrice - (newPrice * Discount / 100);\n",
    "        }\n",
    "\n",
    "\n",
    "        public override string GetProductDetails()\n",
    "        {\n",
    "            return base.GetProductDetails() + $\", Discount: {Discount}%\";\n",
    "        }\n",
    "    }\n",
    "\n",
    "\n",
    "    public class FreeLine : OrderLine\n",
    "    {\n",
    "        public decimal Prepayment { get; private set; }\n",
    "\n",
    "        public FreeLine(int productId, string productName, decimal prepayment)\n",
    "            : base(productId, productName, 0) \n",
    "        {\n",
    "            Prepayment = prepayment;\n",
    "        }\n",
    "\n",
    "\n",
    "        public override decimal CalculateTotal()\n",
    "        {\n",
    "            return -Prepayment; \n",
    "        }\n",
    "\n",
    "\n",
    "        public override string GetProductDetails()\n",
    "        {\n",
    "            return base.GetProductDetails() + $\", Prepayment: {Prepayment:C}\";\n",
    "        }\n",
    "    }\n",
    "\n",
    " StandardLine stdLine = new StandardLine(1, \"Standard Widget\", 20.00m, 3);\n",
    "Console.WriteLine(stdLine.GetProductDetails());\n",
    "Console.WriteLine($\"Total: {stdLine.CalculateTotal():C}\");\n",
    "\n",
    "SpecialLine specialLine = new SpecialLine(2, \"Special Widget\", 30.00m, 10);\n",
    "specialLine.UpdatePrice(30.00m); \n",
    "Console.WriteLine(specialLine.GetProductDetails());\n",
    "Console.WriteLine($\"Total: {specialLine.CalculateTotal():C}\");\n",
    "\n",
    "FreeLine freeLine = new FreeLine(3, \"Free Widget\", 5.00m);\n",
    "Console.WriteLine(freeLine.GetProductDetails());\n",
    "Console.WriteLine($\"Total: {freeLine.CalculateTotal():C}\");\n",
    "\n",
    "\n",
    "OrderLine[] orderLines = new OrderLine[] { stdLine, specialLine, freeLine };\n",
    "\n",
    "\n",
    "decimal grandTotal = 0;\n",
    "foreach (var orderLine in orderLines)\n",
    "{\n",
    "grandTotal += orderLine.CalculateTotal();\n",
    "}\n",
    "Console.WriteLine($\"Grand Total: {grandTotal:C}\");\n"
   ]
  }
 ],
 "metadata": {
  "kernelspec": {
   "display_name": ".NET (C#)",
   "language": "C#",
   "name": ".net-csharp"
  },
  "polyglot_notebook": {
   "kernelInfo": {
    "defaultKernelName": "csharp",
    "items": [
     {
      "aliases": [],
      "languageName": "csharp",
      "name": "csharp"
     }
    ]
   }
  }
 },
 "nbformat": 4,
 "nbformat_minor": 2
}
