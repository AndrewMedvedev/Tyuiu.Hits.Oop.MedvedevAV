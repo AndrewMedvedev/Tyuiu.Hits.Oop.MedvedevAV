{
 "cells": [
  {
   "cell_type": "markdown",
   "metadata": {},
   "source": [
    "<h1 style=\"color:DodgerBlue\">Индивидальный проект</h1>"
   ]
  },
  {
   "cell_type": "markdown",
   "metadata": {},
   "source": [
    "<h2 style=\"color:DodgerBlue\">Название проекта:</h2>\n",
    "\n",
    "----\n",
    "\n",
    "### Вариант задания \n",
    "15 \n",
    "\n",
    "\n",
    "Создать базовый класс OrderLine в C#, который будет представлять информацию о\n",
    "строке заказа, содержащей детали одного товара в заказе. На основе этого класса\n",
    "разработать 2-3 производных класса, демонстрирующих принципы наследования и\n",
    "полиморфизма. В каждом из классов должны быть реализованы новые атрибуты и\n",
    "методы, а также переопределены некоторые методы базового класса для\n",
    "демонстрации полиморфизма.  \n",
    "Добавьте к сущестующим классам конструктора классов с использованием гетторов и сетторов и реализуйте взаимодействие объектов между собой. \n",
    "Добавьте к сущестующим классам (базовыму и производным 3-4 атрибута и метода) и реализуйте простое, сложное и множественное наследование.\n",
    "Добавьте к сущестующим классам (базовыму и производным 3-4 атрибута и метода) и реализуйте полиморфизм с перекрытием и прегегрузкой методов, а также generic классы.\n",
    "Добавьте к сущестующим классам (базовыму и производным 3-4 атрибута и метода) создайте явную реализации интерфейса и управление зависимостями."
   ]
  },
  {
   "cell_type": "markdown",
   "metadata": {},
   "source": [
    "<h2 style=\"color:DodgerBlue\">Описание проекта:</h2>\n",
    "\n",
    "----\n",
    "\n",
    "[ваш текст]\n",
    "\n",
    "#### Дополнительное задание\n",
    "Добавьте к сущестующим классам (базовыму и производным 3-4 атрибута и метода) создайте явную реализации интерфейса и управление зависимостями \n"
   ]
  },
  {
   "cell_type": "markdown",
   "metadata": {},
   "source": [
    "<h2 style=\"color:DodgerBlue\">Реализация:</h2>\n",
    "\n",
    "----"
   ]
  },
  {
   "cell_type": "code",
   "execution_count": null,
   "metadata": {
    "dotnet_interactive": {
     "language": "csharp"
    },
    "polyglot_notebook": {
     "kernelName": "csharp"
    }
   },
   "outputs": [
    {
     "name": "stdout",
     "output_type": "stream",
     "text": [
      "Product: E-book, Quantity: 2, Total Price: 59.98\n",
      "Download Link: http://example.com/download\n",
      "Product: Physical Book, Quantity: 1, Total Price: 24.99\n",
      "Shipping Cost: 5.00, Total with Shipping: 24.99\n",
      "Total Order Price: 84.97\n"
     ]
    }
   ],
   "source": [
    "using System;\n",
    "\n",
    "public class OrderLine\n",
    "{\n",
    "    public int Quantity { get; set; }\n",
    "    public decimal Price { get; set; }\n",
    "    public string ProductName { get; set; }\n",
    "\n",
    "    public OrderLine(int quantity, decimal price, string productName)\n",
    "    {\n",
    "        Quantity = quantity;\n",
    "        Price = price;\n",
    "        ProductName = productName;\n",
    "    }\n",
    "\n",
    "    public virtual decimal GetTotalPrice()\n",
    "    {\n",
    "        return Quantity * Price;\n",
    "    }\n",
    "\n",
    "    public virtual void DisplayInfo()\n",
    "    {\n",
    "        Console.WriteLine($\"Product: {ProductName}, Quantity: {Quantity}, Total Price: {GetTotalPrice()}\");\n",
    "    }\n",
    "}\n",
    "\n",
    "\n",
    "public class DigitalOrderLine : OrderLine\n",
    "{\n",
    "    public string DownloadLink { get; set; }\n",
    "\n",
    "    public DigitalOrderLine(int quantity, decimal price, string productName, string downloadLink)\n",
    "        : base(quantity, price, productName)\n",
    "    {\n",
    "        DownloadLink = downloadLink;\n",
    "    }\n",
    "\n",
    "    public override void DisplayInfo()\n",
    "    {\n",
    "        base.DisplayInfo();\n",
    "        Console.WriteLine($\"Download Link: {DownloadLink}\");\n",
    "    }\n",
    "}\n",
    "\n",
    "public class PhysicalOrderLine : OrderLine\n",
    "{\n",
    "    public decimal ShippingCost { get; set; }\n",
    "\n",
    "    public PhysicalOrderLine(int quantity, decimal price, string productName, decimal shippingCost)\n",
    "        : base(quantity, price, productName)\n",
    "    {\n",
    "        ShippingCost = shippingCost;\n",
    "    }\n",
    "\n",
    "    public override decimal GetTotalPrice()\n",
    "    {\n",
    "        return base.GetTotalPrice() + ShippingCost;\n",
    "    }\n",
    "\n",
    "    public override void DisplayInfo()\n",
    "    {\n",
    "        base.DisplayInfo();\n",
    "        Console.WriteLine($\"Shipping Cost: {ShippingCost}, Total with Shipping: {GetTotalPrice()}\");\n",
    "    }\n",
    "}\n",
    "\n",
    "\n",
    "\n",
    "OrderLine digitalOrder = new DigitalOrderLine(2, 29.99m, \"E-book\", \"http://example.com/download\");\n",
    "OrderLine physicalOrder = new PhysicalOrderLine(1, 19.99m, \"Physical Book\", 5.00m);\n",
    "\n",
    "// Используем полиморфизм\n",
    "digitalOrder.DisplayInfo();\n",
    "physicalOrder.DisplayInfo();\n",
    "\n",
    "\n",
    "\n",
    "public interface IOrderLine\n",
    "{\n",
    "    decimal GetTotalPrice();\n",
    "    void DisplayInfo();\n",
    "}\n",
    "\n",
    "\n",
    "public class Order<T> where T : OrderLine\n",
    "{\n",
    "    public List<T> OrderLines { get; set; } = new List<T>();\n",
    "\n",
    "    public void AddOrderLine(T orderLine)\n",
    "    {\n",
    "        OrderLines.Add(orderLine);\n",
    "    }\n",
    "\n",
    "    public decimal GetTotalOrderPrice()\n",
    "    {\n",
    "        decimal total = 0;\n",
    "        foreach (var line in OrderLines)\n",
    "        {\n",
    "            total += line.GetTotalPrice();\n",
    "        }\n",
    "        return total;\n",
    "    }\n",
    "}\n",
    "\n",
    "var order = new Order<OrderLine>();\n",
    "order.AddOrderLine(digitalOrder);\n",
    "order.AddOrderLine(physicalOrder);\n",
    "\n",
    "Console.WriteLine($\"Total Order Price: {order.GetTotalOrderPrice()}\");\n"
   ]
  }
 ],
 "metadata": {
  "kernelspec": {
   "display_name": ".NET (C#)",
   "language": "C#",
   "name": ".net-csharp"
  },
  "polyglot_notebook": {
   "kernelInfo": {
    "defaultKernelName": "csharp",
    "items": [
     {
      "aliases": [],
      "languageName": "csharp",
      "name": "csharp"
     }
    ]
   }
  }
 },
 "nbformat": 4,
 "nbformat_minor": 2
}
